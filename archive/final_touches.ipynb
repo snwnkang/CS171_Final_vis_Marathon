{
 "cells": [
  {
   "cell_type": "code",
   "execution_count": 1,
   "id": "dc569eaa-15dd-45de-8cca-4d141bec217f",
   "metadata": {
    "tags": []
   },
   "outputs": [],
   "source": [
    "import numpy as np\n",
    "import pandas as pd"
   ]
  },
  {
   "cell_type": "code",
   "execution_count": 2,
   "id": "b951bafd-fc24-4302-88dc-102c88bfd34f",
   "metadata": {
    "tags": []
   },
   "outputs": [],
   "source": [
    "all_df = pd.read_csv('combined_updated_dataAll.csv')\n",
    "london_df = pd.read_csv('London_Top_100.csv')"
   ]
  },
  {
   "cell_type": "code",
   "execution_count": 3,
   "id": "cda3f872-c9c6-4546-aec8-b7b46c86325d",
   "metadata": {
    "tags": []
   },
   "outputs": [],
   "source": [
    "# Remove existing London data\n",
    "all_df = all_df[all_df['Marathon'] != 'London']"
   ]
  },
  {
   "cell_type": "code",
   "execution_count": 4,
   "id": "d12226f3-e32b-463a-9668-5b10a22222b4",
   "metadata": {
    "tags": []
   },
   "outputs": [
    {
     "name": "stdout",
     "output_type": "stream",
     "text": [
      "Index(['Unnamed: 0.1', 'Unnamed: 0', 'Last_Name', 'First_Name', 'Division',\n",
      "       'Country', 'BIB', 'Overall_Place', 'Time', 'Seconds', 'Year', 'Gender',\n",
      "       'Marathon'],\n",
      "      dtype='object')\n",
      "Index(['Overall Place', 'Gender Place', 'Category Place', 'Club',\n",
      "       'Runner Number', 'Gender', 'Category', 'Event', 'Half Time',\n",
      "       'Finish Time', 'Year', 'Last Name', 'First Name', 'Country',\n",
      "       'Total Seconds', 'Half Seconds', 'Name'],\n",
      "      dtype='object')\n"
     ]
    }
   ],
   "source": [
    "print(all_df.columns)\n",
    "print(london_df.columns)"
   ]
  },
  {
   "cell_type": "code",
   "execution_count": 5,
   "id": "7dbbdc71-c8f9-4793-b165-6b294f8ede30",
   "metadata": {
    "tags": []
   },
   "outputs": [
    {
     "name": "stderr",
     "output_type": "stream",
     "text": [
      "/var/folders/l8/68r12l513nz1wg5q55x_c5d00000gn/T/ipykernel_34745/278242207.py:4: SettingWithCopyWarning: \n",
      "A value is trying to be set on a copy of a slice from a DataFrame.\n",
      "Try using .loc[row_indexer,col_indexer] = value instead\n",
      "\n",
      "See the caveats in the documentation: https://pandas.pydata.org/pandas-docs/stable/user_guide/indexing.html#returning-a-view-versus-a-copy\n",
      "  small_london_df['Marathon'] = 'London'\n"
     ]
    }
   ],
   "source": [
    "# Rename and keep only relevant columns\n",
    "london_df = london_df.rename(columns={'Last Name': 'Last_Name', 'First Name': 'First_Name', 'Category': 'Division', 'Runner Number': 'BIB', 'Overall Place': 'Overall_Place', 'Finish Time': 'Time', 'Total Seconds': 'Seconds'})\n",
    "small_london_df = london_df[london_df.columns[london_df.columns.isin(all_df.columns)]]\n",
    "small_london_df['Marathon'] = 'London'"
   ]
  },
  {
   "cell_type": "code",
   "execution_count": 6,
   "id": "6b994a41-3412-4577-8375-959770b296a6",
   "metadata": {
    "tags": []
   },
   "outputs": [],
   "source": [
    "# Drop irrelevant columns from larger df\n",
    "all_df.drop(columns=['Unnamed: 0.1', 'Unnamed: 0'], inplace=True)"
   ]
  },
  {
   "cell_type": "code",
   "execution_count": 7,
   "id": "366cdd28-5f84-44e7-8b95-934fc1552dc7",
   "metadata": {
    "tags": []
   },
   "outputs": [],
   "source": [
    "# Combine dfs\n",
    "all_df = pd.concat([all_df,small_london_df], ignore_index=True)"
   ]
  },
  {
   "cell_type": "code",
   "execution_count": 8,
   "id": "2dbbb49f-6c59-4c75-8a8e-d8602ba9c63f",
   "metadata": {
    "tags": []
   },
   "outputs": [],
   "source": [
    "# Cast all names to lowercase for consistency\n",
    "all_df['First_Name'] = all_df['First_Name'].str.lower()\n",
    "all_df['Last_Name'] = all_df['Last_Name'].str.lower()"
   ]
  },
  {
   "cell_type": "code",
   "execution_count": 9,
   "id": "23c5f1a7-50a9-4f21-a545-daff05130624",
   "metadata": {
    "tags": []
   },
   "outputs": [],
   "source": [
    "# Import and clean country code mappings\n",
    "code_df = pd.read_csv('iso_to_ioc.csv')\n",
    "\n",
    "# Remove empty elements in the code mapping\n",
    "code_df = code_df[['IOC','ISO']]\n",
    "\n",
    "for index, row in code_df.iterrows():\n",
    "    if pd.isna(row['IOC']):\n",
    "        if not pd.isna(row['ISO']) and row['ISO'] not in code_df['IOC'].unique():\n",
    "            code_df.at[index,'IOC'] = row['ISO']\n",
    "        else:\n",
    "            code_df.drop(index, inplace=True)\n",
    "\n",
    "# code_df.loc[len(code_df)] = [np.nan, np.nan]"
   ]
  },
  {
   "cell_type": "code",
   "execution_count": 10,
   "id": "78ef9baf-45fb-46fc-9e33-fe3669733003",
   "metadata": {
    "tags": []
   },
   "outputs": [
    {
     "name": "stdout",
     "output_type": "stream",
     "text": [
      "             Last_Name First_Name Division        Country  BIB Overall_Place  \\\n",
      "0               dibaba       mare    20-24            ETH  103            50   \n",
      "1             kiplagat   florence    25-29            KEN  102            53   \n",
      "2               dibaba    birhane    20-24            ETH  106            61   \n",
      "3             hastings        amy    30-34            USA  107            62   \n",
      "4             santucci      clara    25-29            USA  108           101   \n",
      "...                ...        ...      ...            ...  ...           ...   \n",
      "9218              king      katie   F18-39  Great Britain  NaN        1964.0   \n",
      "9219  trahair-williams      sarah   F18-39  Great Britain  NaN        1967.0   \n",
      "9220            vulpen  kaili van   F18-39         Canada  NaN        1976.0   \n",
      "9221      cowell-jones        zoe   F40-44  Great Britain  NaN        1971.0   \n",
      "9222              sogo      laura   F18-39          Spain  NaN        1987.0   \n",
      "\n",
      "          Time  Seconds  Year Gender Marathon  \n",
      "0     02:25:37   8737.0  2014      F  Chicago  \n",
      "1     02:25:57   8757.0  2014      F  Chicago  \n",
      "2     02:27:02   8822.0  2014      F  Chicago  \n",
      "3     02:27:03   8823.0  2014      F  Chicago  \n",
      "4     02:32:21   9141.0  2014      F  Chicago  \n",
      "...        ...      ...   ...    ...      ...  \n",
      "9218   2:54:08  10448.0  2023      F   London  \n",
      "9219   2:54:09  10449.0  2023      F   London  \n",
      "9220   2:54:13  10453.0  2023      F   London  \n",
      "9221   2:54:13  10453.0  2023      F   London  \n",
      "9222   2:54:20  10460.0  2023      F   London  \n",
      "\n",
      "[9223 rows x 11 columns]\n"
     ]
    },
    {
     "ename": "NameError",
     "evalue": "name 'manual_code_df' is not defined",
     "output_type": "error",
     "traceback": [
      "\u001b[0;31m---------------------------------------------------------------------------\u001b[0m",
      "\u001b[0;31mNameError\u001b[0m                                 Traceback (most recent call last)",
      "Cell \u001b[0;32mIn[10], line 5\u001b[0m\n\u001b[1;32m      3\u001b[0m iso_list \u001b[38;5;241m=\u001b[39m code_df[\u001b[38;5;124m'\u001b[39m\u001b[38;5;124mISO\u001b[39m\u001b[38;5;124m'\u001b[39m]\u001b[38;5;241m.\u001b[39munique()\u001b[38;5;241m.\u001b[39mtolist()\n\u001b[1;32m      4\u001b[0m ioc_list \u001b[38;5;241m=\u001b[39m code_df[\u001b[38;5;124m'\u001b[39m\u001b[38;5;124mIOC\u001b[39m\u001b[38;5;124m'\u001b[39m]\u001b[38;5;241m.\u001b[39munique()\u001b[38;5;241m.\u001b[39mtolist()\n\u001b[0;32m----> 5\u001b[0m full_name_list \u001b[38;5;241m=\u001b[39m \u001b[43mmanual_code_df\u001b[49m[\u001b[38;5;124m'\u001b[39m\u001b[38;5;124mFull Name\u001b[39m\u001b[38;5;124m'\u001b[39m]\u001b[38;5;241m.\u001b[39munique()\n\u001b[1;32m      7\u001b[0m \u001b[38;5;28;01mfor\u001b[39;00m index, row \u001b[38;5;129;01min\u001b[39;00m all_df\u001b[38;5;241m.\u001b[39miterrows():\n\u001b[1;32m      8\u001b[0m     \u001b[38;5;28;01mif\u001b[39;00m row[\u001b[38;5;124m'\u001b[39m\u001b[38;5;124mCountry\u001b[39m\u001b[38;5;124m'\u001b[39m] \u001b[38;5;129;01mnot\u001b[39;00m \u001b[38;5;129;01min\u001b[39;00m iso_list:\n",
      "\u001b[0;31mNameError\u001b[0m: name 'manual_code_df' is not defined"
     ]
    }
   ],
   "source": [
    "# Convert IOC country codes to ISO-3\n",
    "print(all_df)\n",
    "iso_list = code_df['ISO'].unique().tolist()\n",
    "ioc_list = code_df['IOC'].unique().tolist()\n",
    "full_name_list = manual_code_df['Full Name'].unique()\n",
    "\n",
    "for index, row in all_df.iterrows():\n",
    "    if row['Country'] not in iso_list:\n",
    "        if row['Country'] in ioc_list:\n",
    "            map_row = code_df[code_df['IOC'].str.contains(row['Country'], case=False)]\n",
    "            all_df.at[index,'Country'] = map_row['ISO']\n",
    "        elif row['Country'] in full_name_list:\n",
    "            map_row = manual_code_df[manual_code_df['Full Name'].str.contains(row['Country'], case=False)]\n",
    "            # print(map_row)\n",
    "            # manual_code_df.loc[manual_code_df['Full Name'] == row['Country'], 'ISO'].values[0]\n",
    "            # print(map_row['ISO'].values[0])\n",
    "            all_df.at[index,'Country'] =  map_row['ISO'].values[0]\n",
    "        else:\n",
    "            all_df.at[index,'Country'] = np.nan\n",
    "            \n",
    "print(all_df)"
   ]
  },
  {
   "cell_type": "code",
   "execution_count": 29,
   "id": "8dac8e53-a72c-4f7b-9ad0-8408ac70ff0a",
   "metadata": {
    "tags": []
   },
   "outputs": [],
   "source": [
    "all_df.to_csv('combined_correct_london.csv',index=False)"
   ]
  },
  {
   "cell_type": "code",
   "execution_count": null,
   "id": "b6af0fdc-685d-45bb-b3cb-d33cf7870d06",
   "metadata": {
    "tags": []
   },
   "outputs": [],
   "source": [
    "set2 = set(ioc_list + iso_list)\n",
    "set1 = set(london_df['Country'].unique())\n",
    "\n",
    "# Select elements from list1 that are not in list2\n",
    "result = list(set1 - set2)\n",
    "\n",
    "print(result)"
   ]
  },
  {
   "cell_type": "code",
   "execution_count": null,
   "id": "49fb0ea0-c434-4e15-8a1a-09c832c6aadd",
   "metadata": {
    "tags": []
   },
   "outputs": [],
   "source": [
    "# manual_code_df = pd.DataFrame(columns=['Full Name','ISO'])\n",
    "# manu"
   ]
  },
  {
   "cell_type": "code",
   "execution_count": null,
   "id": "c03cdf57-baf9-4078-af7f-8873f602ee87",
   "metadata": {
    "tags": []
   },
   "outputs": [],
   "source": [
    "data = {\n",
    "    'Full Name': ['Mexico', 'Norway', 'Great Britain', 'Ireland', 'Costa Rica','Australia', 'Ethiopia', 'Germany', 'Switzerland','Kenya',\n",
    "                  'Spain', 'Poland','Italy','Canada','Lithuania','LIB','Netherlands','South Africa','NIR'],\n",
    "    'ISO': ['MEX', 'NOR', 'GBR', 'IRL', 'CRI', 'AUS', 'ETH', 'DEU','CHE','KEN',\n",
    "            'ESP', 'POL','ITA','CAN','LTU','LBN','NLD','ZAF','GBR']\n",
    "}\n",
    "\n",
    "# Create a DataFrame using the dictionary\n",
    "manual_code_df = pd.DataFrame(data)\n",
    "manual_code_df['Full Name'] = manual_code_df['Full Name'].astype(str)\n",
    "manual_code_df['ISO'] = manual_code_df['ISO'].astype(str)\n",
    "print(manual_code_df['ISO'][0])"
   ]
  },
  {
   "cell_type": "code",
   "execution_count": null,
   "id": "2ce8c481-ed0d-4471-9533-02e6da815e7c",
   "metadata": {
    "tags": []
   },
   "outputs": [],
   "source": [
    "for index, row in all_df.iterrows():\n",
    "    if row['Country'] not in iso_list:\n",
    "        if row['Country'] in ioc_list:\n",
    "            map_row = code_df[code_df['IOC'].str.contains(row['Country'], case=False)]\n",
    "            all_df.at[index,'Country'] = map_row['ISO']\n",
    "        else:\n",
    "            all_df.at[index,'Country'] = np.nan\n",
    "            \n",
    "df['Country'] = df['Country'].astype(str)"
   ]
  },
  {
   "cell_type": "code",
   "execution_count": 11,
   "id": "042c8cfe-c844-4c68-b50b-065aa794c1e3",
   "metadata": {
    "tags": []
   },
   "outputs": [
    {
     "name": "stdout",
     "output_type": "stream",
     "text": [
      "     IOC  ISO\n",
      "0    AFG  AFG\n",
      "1    ALA  ALA\n",
      "2    ALB  ALB\n",
      "3    ALG  DZA\n",
      "4    ASA  ASM\n",
      "..   ...  ...\n",
      "249  WLF  WLF\n",
      "250  ESH  ESH\n",
      "251  YEM  YEM\n",
      "252  ZAM  ZMB\n",
      "253  ZIM  ZWE\n",
      "\n",
      "[251 rows x 2 columns]\n"
     ]
    }
   ],
   "source": [
    "print(code_df)"
   ]
  },
  {
   "cell_type": "code",
   "execution_count": 12,
   "id": "9a438773-074a-48c8-8eb8-b08ab0862e20",
   "metadata": {
    "tags": []
   },
   "outputs": [],
   "source": [
    "boston_df = pd.read_csv('full2019boston.csv')"
   ]
  },
  {
   "cell_type": "code",
   "execution_count": 13,
   "id": "24da0d56-dad0-4624-841d-32741083346d",
   "metadata": {
    "tags": []
   },
   "outputs": [
    {
     "name": "stdout",
     "output_type": "stream",
     "text": [
      "['KEN' 'ETH' 'USA' 'JPN' 'MAR' 'MEX' 'CAN' 'AUS' 'DEU' 'CHN' 'DMA' 'ISR'\n",
      " 'ARG' 'IRL' 'BRA' 'TUR' 'AUT' 'PER' 'FRA' 'CHL' 'CHE' 'DNK' 'NOR' 'FIN'\n",
      " 'PRT' 'SWE' 'LVA' 'COL' 'BMU' 'BEL' 'HKG' 'ECU' 'ITA' 'CRI' 'TWN' 'EST'\n",
      " 'ESP' 'PSE' 'VEN' 'CZE' 'NLD' 'RUS' 'IND' 'ZAF' 'SGP' 'POL' 'LUX' 'HUN'\n",
      " 'GTM' 'LTU' 'UKR' 'BLR' 'SVN' 'KOR' 'NZL' 'PRI' 'MAC' 'ARM' 'SLV' 'THA'\n",
      " 'NPL' 'PHL' 'SVK' 'VNM' 'FRO' 'PAN' 'AND' 'HND' 'URY' 'MYS' 'ISL' 'MCO'\n",
      " 'IDN' 'TTO' 'DZA' 'CYP' 'GRC' 'CYM' 'MDA' 'ROU' 'SRB' 'HRV' 'BLZ' 'SAU'\n",
      " 'MLT' 'KWT' 'BOL' 'BRB' 'MTQ' 'ABW']\n"
     ]
    }
   ],
   "source": [
    "for index, row in boston_df.iterrows():\n",
    "    if row['Country'] not in iso_list:\n",
    "        if row['Country'] in ioc_list:\n",
    "            map_row = code_df[code_df['IOC'].str.contains(row['Country'], case=False)]\n",
    "            boston_df.at[index,'Country'] = map_row['ISO']\n",
    "        elif row['Country'] in full_name_list:\n",
    "            map_row = manual_code_df[manual_code_df['Full Name'].str.contains(row['Country'], case=False)]\n",
    "            # print(map_row)\n",
    "            # manual_code_df.loc[manual_code_df['Full Name'] == row['Country'], 'ISO'].values[0]\n",
    "            # print(map_row['ISO'].values[0])\n",
    "            boston_df.at[index,'Country'] =  map_row['ISO'].values[0]\n",
    "        else:\n",
    "            boston_df.at[index,'Country'] = np.nan\n",
    "print(boston_df['Country'].unique())"
   ]
  },
  {
   "cell_type": "code",
   "execution_count": 14,
   "id": "0570ae40-aec9-49c8-918a-2fce51d9e906",
   "metadata": {
    "tags": []
   },
   "outputs": [],
   "source": [
    "boston_df.to_csv('boston_iso_countries.csv',index=False)"
   ]
  },
  {
   "cell_type": "raw",
   "id": "d17a981f-a717-46b6-b392-5accdb26bf14",
   "metadata": {},
   "source": []
  },
  {
   "cell_type": "code",
   "execution_count": 28,
   "id": "68210e8b-5199-4894-ad19-4b87a847dd2d",
   "metadata": {
    "tags": []
   },
   "outputs": [],
   "source": [
    "all_df['Division'] = all_df['Division'].str.replace(r'^[MF]', '', regex=True)\n",
    "all_df['Division'].fillna('-', inplace=True)"
   ]
  },
  {
   "cell_type": "code",
   "execution_count": 27,
   "id": "9220cf9f-bfae-425b-9732-e71bdaccc50d",
   "metadata": {
    "tags": []
   },
   "outputs": [
    {
     "data": {
      "text/plain": [
       "array(['20-24', '25-29', '30-34', '35-39', '40-44', '50-54', '45-49',\n",
       "       '19 and under', '55-59', '18-19', '60-64', '18-29', '-', '18-39',\n",
       "       '–'], dtype=object)"
      ]
     },
     "execution_count": 27,
     "metadata": {},
     "output_type": "execute_result"
    }
   ],
   "source": [
    "all_df['Division'].unique()"
   ]
  },
  {
   "cell_type": "code",
   "execution_count": 18,
   "id": "ccafc077-6207-4ff2-a455-316b58356798",
   "metadata": {
    "tags": []
   },
   "outputs": [
    {
     "data": {
      "text/plain": [
       "array(['18-39', '40-44', '50-54', '45-49', nan, '–', 'M18-39', 'M40-44',\n",
       "       '55-59', 'F18-39', 'F40-44', 'F45-49', 'F55-59', 'F50-54'],\n",
       "      dtype=object)"
      ]
     },
     "execution_count": 18,
     "metadata": {},
     "output_type": "execute_result"
    }
   ],
   "source": []
  },
  {
   "cell_type": "code",
   "execution_count": null,
   "id": "604e1954-c3f0-4dd4-9afd-b9db2e10da1b",
   "metadata": {},
   "outputs": [],
   "source": []
  }
 ],
 "metadata": {
  "kernelspec": {
   "display_name": "Python 3 (ipykernel)",
   "language": "python",
   "name": "python3"
  },
  "language_info": {
   "codemirror_mode": {
    "name": "ipython",
    "version": 3
   },
   "file_extension": ".py",
   "mimetype": "text/x-python",
   "name": "python",
   "nbconvert_exporter": "python",
   "pygments_lexer": "ipython3",
   "version": "3.10.11"
  }
 },
 "nbformat": 4,
 "nbformat_minor": 5
}
