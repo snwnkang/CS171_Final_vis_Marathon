{
 "cells": [
  {
   "cell_type": "code",
   "execution_count": 1,
   "id": "6ee8dc25-f952-4a99-931a-1edb4909aedd",
   "metadata": {
    "tags": []
   },
   "outputs": [],
   "source": [
    "import numpy as np\n",
    "import pandas as pd"
   ]
  },
  {
   "cell_type": "code",
   "execution_count": 29,
   "id": "f9441222-15de-4b95-91d8-c8e9206a4216",
   "metadata": {
    "tags": []
   },
   "outputs": [],
   "source": [
    "all_df = pd.read_csv('combined_updated_dataAll.csv')\n",
    "boston_df = pd.read_csv('full2019boston.csv')\n",
    "code_df = pd.read_csv('iso_to_ioc.csv')"
   ]
  },
  {
   "cell_type": "code",
   "execution_count": 30,
   "id": "e61d390b-c8bf-4f37-8d20-d45d9e52ef4d",
   "metadata": {
    "tags": []
   },
   "outputs": [
    {
     "name": "stdout",
     "output_type": "stream",
     "text": [
      "IOC    NaN\n",
      "ISO    [7]\n",
      "Name: 166, dtype: object\n",
      "IOC    NaN\n",
      "ISO    [7]\n",
      "Name: 199, dtype: object\n",
      "IOC    NaN\n",
      "ISO    [7]\n",
      "Name: 248, dtype: object\n"
     ]
    }
   ],
   "source": [
    "# Remove empty elements in the code mapping\n",
    "code_df = code_df[['IOC','ISO']]\n",
    "\n",
    "for index, row in code_df.iterrows():\n",
    "    if pd.isna(row['IOC']):\n",
    "        if not pd.isna(row['ISO']) and row['ISO'] not in code_df['IOC'].unique():\n",
    "            code_df.at[index,'IOC'] = row['ISO']\n",
    "        else:\n",
    "            print(row)\n",
    "            code_df.drop(index, inplace=True)\n",
    "\n",
    "code_df.loc[len(code_df)] = [np.nan, np.nan]"
   ]
  },
  {
   "cell_type": "code",
   "execution_count": 32,
   "id": "1024c3d5-7306-4e97-9d44-c9c7a3672031",
   "metadata": {
    "tags": []
   },
   "outputs": [],
   "source": [
    "all_iso_df = pd.merge(all_df, code_df, left_on='Country', right_on='IOC', how='left')\n",
    "all_iso_df['Country'] = all_iso_df['ISO']\n",
    "all_iso_df.drop(['IOC', 'ISO'], axis=1, inplace=True)"
   ]
  },
  {
   "cell_type": "code",
   "execution_count": 33,
   "id": "3cd982f0-8d20-4f86-b5fc-3668b79e530b",
   "metadata": {
    "tags": []
   },
   "outputs": [],
   "source": [
    "boston_iso_df = pd.merge(boston_df, code_df, left_on='Country', right_on='IOC', how='left')\n",
    "boston_iso_df['Country'] = boston_iso_df['ISO']\n",
    "boston_iso_df.drop(['IOC', 'ISO'], axis=1, inplace=True)"
   ]
  },
  {
   "cell_type": "code",
   "execution_count": 37,
   "id": "f82f1c00-90c3-44b2-add8-3cab4e7f5744",
   "metadata": {
    "tags": []
   },
   "outputs": [
    {
     "data": {
      "text/plain": [
       "USA    3387\n",
       "GBR    1816\n",
       "CAN     224\n",
       "KEN     201\n",
       "ETH     192\n",
       "       ... \n",
       "LIE       1\n",
       "MLT       1\n",
       "JEY       1\n",
       "THA       1\n",
       "BHR       1\n",
       "Name: Country, Length: 91, dtype: int64"
      ]
     },
     "execution_count": 37,
     "metadata": {},
     "output_type": "execute_result"
    }
   ],
   "source": [
    "all_iso_df['Country'].value_counts().head(91)"
   ]
  },
  {
   "cell_type": "code",
   "execution_count": 38,
   "id": "47d4298d-73e5-4465-8e91-b53b2336db4f",
   "metadata": {
    "tags": []
   },
   "outputs": [],
   "source": [
    "all_iso_df.to_csv('all_marathon_iso.csv')\n",
    "boston_iso_df.to_csv('boston2019_iso.csv')"
   ]
  },
  {
   "cell_type": "code",
   "execution_count": null,
   "id": "30ffc017-63ee-42f8-a684-117332616880",
   "metadata": {},
   "outputs": [],
   "source": []
  }
 ],
 "metadata": {
  "kernelspec": {
   "display_name": "Python 3 (ipykernel)",
   "language": "python",
   "name": "python3"
  },
  "language_info": {
   "codemirror_mode": {
    "name": "ipython",
    "version": 3
   },
   "file_extension": ".py",
   "mimetype": "text/x-python",
   "name": "python",
   "nbconvert_exporter": "python",
   "pygments_lexer": "ipython3",
   "version": "3.10.11"
  }
 },
 "nbformat": 4,
 "nbformat_minor": 5
}
