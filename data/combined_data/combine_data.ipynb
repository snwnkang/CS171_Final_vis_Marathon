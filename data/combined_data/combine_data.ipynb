{
 "cells": [
  {
   "cell_type": "code",
   "execution_count": 1,
   "id": "cee2af1d-de54-4cd2-a7cf-68314ef5b4b3",
   "metadata": {
    "tags": []
   },
   "outputs": [],
   "source": [
    "import pandas as pd\n",
    "import numpy as np"
   ]
  },
  {
   "cell_type": "code",
   "execution_count": 7,
   "id": "f87c087b-c636-476a-8e05-c0f2dbf6cbe2",
   "metadata": {
    "tags": []
   },
   "outputs": [
    {
     "name": "stdout",
     "output_type": "stream",
     "text": [
      "                     Name Gender  Age Country   BIB  Overall Place     Time  \\\n",
      "0          Wilson Kipsang      M   32     KEN     2              1  2:10:59   \n",
      "1     Lelisa Desisa Benti      M   24     ETH     4              2  2:11:06   \n",
      "2       Gebre Gebremariam      M   30     ETH     7              3  2:12:13   \n",
      "3          Meb Keflezighi      M   39     USA     5              4  2:13:18   \n",
      "4       Stephen Kiprotich      M   25     UGA    11              5  2:13:25   \n",
      "...                   ...    ...  ...     ...   ...            ...      ...   \n",
      "3055       Kevin Jennings      M   29     USA  2766            302  2:45:10   \n",
      "3056    Connor Hesselbirg      M   28     USA  7579            303  2:45:12   \n",
      "3057       Charlie Osmond      M   46     GBR  1550            304  2:45:13   \n",
      "3058       Manuel Haberer      M   33     ITA  2064            305  2:45:15   \n",
      "3059     Richard Marriott      M   43     GBR  1478            306  2:45:16   \n",
      "\n",
      "      Year  \n",
      "0     2014  \n",
      "1     2014  \n",
      "2     2014  \n",
      "3     2014  \n",
      "4     2014  \n",
      "...    ...  \n",
      "3055  2023  \n",
      "3056  2023  \n",
      "3057  2023  \n",
      "3058  2023  \n",
      "3059  2023  \n",
      "\n",
      "[3060 rows x 8 columns]\n"
     ]
    }
   ],
   "source": [
    "print(ny_df)"
   ]
  },
  {
   "cell_type": "code",
   "execution_count": 9,
   "id": "bccae279-1f5d-4f38-9513-70da22be60da",
   "metadata": {
    "tags": []
   },
   "outputs": [
    {
     "name": "stdout",
     "output_type": "stream",
     "text": [
      "                    Name Gender  Age Country  BIB  Overall Place     Time  \\\n",
      "0         Wilson Kipsang      M   32     KEN    2              1  2:10:59   \n",
      "1    Lelisa Desisa Benti      M   24     ETH    4              2  2:11:06   \n",
      "2      Gebre Gebremariam      M   30     ETH    7              3  2:12:13   \n",
      "3         Meb Keflezighi      M   39     USA    5              4  2:13:18   \n",
      "4      Stephen Kiprotich      M   25     UGA   11              5  2:13:25   \n",
      "..                   ...    ...  ...     ...  ...            ...      ...   \n",
      "195           Joe Whelan      M   32     USA   24             16  2:17:32   \n",
      "196           Garret Lee      M   30     USA   32             17  2:18:35   \n",
      "197            Ryan Root      M   32     USA   28             18  2:19:20   \n",
      "198      Wesley Robinson      M   26     USA   31             19  2:20:23   \n",
      "199      Thomas Slattery      M   27     USA   29             20  2:20:45   \n",
      "\n",
      "     Year  seconds  \n",
      "0    2014   7859.0  \n",
      "1    2014   7866.0  \n",
      "2    2014   7933.0  \n",
      "3    2014   7998.0  \n",
      "4    2014   8005.0  \n",
      "..    ...      ...  \n",
      "195  2023   8252.0  \n",
      "196  2023   8315.0  \n",
      "197  2023   8360.0  \n",
      "198  2023   8423.0  \n",
      "199  2023   8445.0  \n",
      "\n",
      "[200 rows x 9 columns]\n"
     ]
    }
   ],
   "source": [
    "### Import and get \"elite\" data from New York\n",
    "ny_df = pd.read_csv('NY_Marathon_Combined.csv')\n",
    "\n",
    "# Calculate seconds\n",
    "def time_to_seconds_2023(time_str):\n",
    "    try:\n",
    "        return pd.to_timedelta(time_str).total_seconds()\n",
    "    except ValueError:\n",
    "        return time_str.hour * 3600 + time_str.minute * 60 + time_str.second\n",
    "    \n",
    "ny_df['seconds'] = ny_df['Time'].apply(time_to_seconds_2023)\n",
    "\n",
    "# Filter by elite\n",
    "cutoff = 20\n",
    "elite_ny = pd.DataFrame()\n",
    "\n",
    "for sex in ['M','F']:\n",
    "    for year in ny_df['Year'].unique():\n",
    "        filtered_df = ny_df[(ny_df['Year'] == year) & (ny_df['Gender'] == sex)]\n",
    "        filtered_df = filtered_df.nsmallest(cutoff, 'seconds')\n",
    "        elite_ny = pd.concat([elite_ny,filtered_df],axis=0,ignore_index=True)\n",
    "\n",
    "print(elite_ny)\n",
    "# elite_df.to_csv('Berlin_Top20_2014_to_2023.csv',index=False)"
   ]
  },
  {
   "cell_type": "code",
   "execution_count": 10,
   "id": "a798d4e9-60d9-462c-8793-100af0cdbc78",
   "metadata": {
    "tags": []
   },
   "outputs": [
    {
     "name": "stdout",
     "output_type": "stream",
     "text": [
      "    Last Name, First Name     Time  OverAll Sex Place     DIV  \\\n",
      "0       Khalid Khannouchi  2:07:01      1.0     1 / 1  M25-29   \n",
      "1        Josephat Kiprono  2:07:29      2.0     2 / 2  M25-29   \n",
      "2             Moses Tanui  2:07:47      3.0     3 / 1  M35-39   \n",
      "3           Peter Githuka  2:08:02      4.0     4 / 1  M30-34   \n",
      "4             Fred Kiprop  2:08:23      5.0     5 / 3  M25-29   \n",
      "..                    ...      ...      ...       ...     ...   \n",
      "661           Sara Vaughn  2:23:24     64.0    10 / 1  F35-39   \n",
      "662      Gabriella Rooker  2:24:35     77.0    11 / 2  F35-39   \n",
      "663      Dakotah Lindwurm  2:24:40     81.0    12 / 5  F25-29   \n",
      "664            Emma Bates  2:25:04     86.0    13 / 5  F30-34   \n",
      "665       Tristin Van Ord  2:25:58     94.0    14 / 6  F25-29   \n",
      "\n",
      "    City, State, Country  Year Gender   Age  seconds  \n",
      "0                    USA  2000      M  28.0   7621.0  \n",
      "1                  Kenya  2000      M  26.0   7649.0  \n",
      "2                  Kenya  2000      M  35.0   7667.0  \n",
      "3                  Kenya  2000      M  31.0   7682.0  \n",
      "4                  Kenya  2000      M  26.0   7703.0  \n",
      "..                   ...   ...    ...   ...      ...  \n",
      "661                  USA  2023      F   NaN   8604.0  \n",
      "662                  USA  2023      F   NaN   8675.0  \n",
      "663                  USA  2023      F   NaN   8680.0  \n",
      "664                  USA  2023      F   NaN   8704.0  \n",
      "665                  USA  2023      F   NaN   8758.0  \n",
      "\n",
      "[666 rows x 10 columns]\n"
     ]
    }
   ],
   "source": [
    "### Import and get \"elite\" data from New York\n",
    "chi_df = pd.read_csv('chicago_combined_marathon_data.csv')\n",
    "\n",
    "# Calculate seconds\n",
    "def time_to_seconds_2023(time_str):\n",
    "    try:\n",
    "        return pd.to_timedelta(time_str).total_seconds()\n",
    "    except ValueError:\n",
    "        return time_str.hour * 3600 + time_str.minute * 60 + time_str.second\n",
    "    \n",
    "chi_df['seconds'] = chi_df['Time'].apply(time_to_seconds_2023)\n",
    "\n",
    "# Filter by elite\n",
    "cutoff = 20\n",
    "elite_chi = pd.DataFrame()\n",
    "\n",
    "for sex in ['M','F']:\n",
    "    for year in chi_df['Year'].unique():\n",
    "        filtered_df = chi_df[(chi_df['Year'] == year) & (chi_df['Gender'] == sex)]\n",
    "        filtered_df = filtered_df.nsmallest(cutoff, 'seconds')\n",
    "        elite_chi = pd.concat([elite_chi,filtered_df],axis=0,ignore_index=True)"
   ]
  },
  {
   "cell_type": "code",
   "execution_count": 25,
   "id": "16aba90f-f623-4215-ac11-823067968176",
   "metadata": {
    "tags": []
   },
   "outputs": [],
   "source": [
    "# Import other data\n",
    "elite_lon = pd.read_csv('Berlin Marathon Data/Berlin_Top20_2014_to_2023.csv')\n",
    "elite_ber = pd.read_csv('London Marathon Data/London_Marathon_Elite_2014_to_2023.csv')\n",
    "elite_bos = pd.read_csv('Boston Marathon Data/Boston_elite_2014_to_2023.csv')"
   ]
  },
  {
   "cell_type": "code",
   "execution_count": 26,
   "id": "4ee49548-7fa6-4467-b0b2-42897a8252f5",
   "metadata": {
    "tags": []
   },
   "outputs": [
    {
     "name": "stdout",
     "output_type": "stream",
     "text": [
      "Index(['place', 'bib', 'last_name', 'first_name', 'club', 'country', 'sex',\n",
      "       'division', 'division_result', 'net_time', 'finish_time', 'year',\n",
      "       'gender_result', 'name', 'birth_date', 'seconds', 'marathon'],\n",
      "      dtype='object')\n",
      "Index(['Overall Place', 'Gender Place', 'Category Place', 'Club',\n",
      "       'Runner Number', 'Gender', 'Category', 'Event', 'Half Time',\n",
      "       'Finish Time', 'Year', 'Last Name', 'First Name', 'Country',\n",
      "       'Total Seconds', 'Half Seconds', 'marathon'],\n",
      "      dtype='object')\n",
      "Index(['official_time', 'place_overall', 'net_time', 'contry_citizenship',\n",
      "       'display_name', 'gender', 'gender_result', 'division_result', 'year',\n",
      "       'division', 'age_graded_time', 'age', 'city', 'state', 'seconds',\n",
      "       'residence', 'pace', 'overall', 'first_name', 'last_name', 'bib',\n",
      "       'name', 'country_residence', 'name_suffix', '5k', '10k', '15k', '20k',\n",
      "       'half', '25k', '30k', '35k', '40k', 'projected_time', 'marathon'],\n",
      "      dtype='object')\n",
      "Index(['name', 'gender', 'age', 'country', 'bib', 'place_overall',\n",
      "       'finish_time', 'year', 'seconds', 'marathon'],\n",
      "      dtype='object')\n",
      "Index(['name', 'finish_time', 'place_overall', 'sex_div_place', 'division',\n",
      "       'city_state_country', 'year', 'sex', 'age', 'seconds', 'marathon'],\n",
      "      dtype='object')\n"
     ]
    }
   ],
   "source": [
    "# Add marathon identified to each dataframe\n",
    "elite_lon['marathon'] = 'London'\n",
    "elite_ber['marathon'] = 'Berlin'\n",
    "elite_bos['marathon'] = 'Boston'\n",
    "elite_ny['marathon'] = 'New York'\n",
    "elite_chi['marathon'] = 'Chicago'\n",
    "\n",
    "print(elite_lon.columns)\n",
    "print(elite_ber.columns)\n",
    "print(elite_bos.columns)\n",
    "print(elite_ny.columns)\n",
    "print(elite_chi.columns)"
   ]
  },
  {
   "cell_type": "code",
   "execution_count": 29,
   "id": "29f6245f-fc73-443b-b30d-4eb7ee98773e",
   "metadata": {
    "tags": []
   },
   "outputs": [],
   "source": [
    "# Rename chicago columns to match other dataframe column names\n",
    "elite_chi = elite_chi.rename(columns={\n",
    "    'Last Name, First Name': 'name',\n",
    "    'Time': 'finish_time',\n",
    "    'OverAll': 'place_overall',\n",
    "    'Sex Place': 'sex_div_place',\n",
    "    'DIV': 'division',\n",
    "    'City, State, Country': 'city_state_country',\n",
    "    'Year': 'year',\n",
    "    'Gender': 'gender',\n",
    "    'Age': 'age'\n",
    "})\n",
    "\n",
    "# Rename new york columns to match other dataframe columns\n",
    "elite_ny = elite_ny.rename(columns={\n",
    "    'Name': 'name',\n",
    "    'Gender': 'gender',\n",
    "    'Age': 'age',\n",
    "    'Country': 'country',\n",
    "    'BIB': 'bib',\n",
    "    'Overall Place': 'place_overall',\n",
    "    'Time': 'finish_time',\n",
    "    'Year': 'year'\n",
    "})\n",
    "\n",
    "# Rename london columns to match other dataframe columns\n",
    "elite_lon = elite_lon.rename(columns={\n",
    "    'place': 'place_overall',\n",
    "    'sex': 'gender',\n",
    "    'gender_result': 'place_gender',\n",
    "    'division_result': 'place_division'\n",
    "})\n",
    "\n",
    "# Rename berlin columns to match other dataframe columns\n",
    "elite_ber = elite_ber.rename(columns={\n",
    "    'Overall Place': 'place_overall',\n",
    "    'Gender Place': 'place_gender',\n",
    "    'Category Place': 'place_division',\n",
    "    'Club': 'club',\n",
    "    'Runner Number': 'bib',\n",
    "    'Gender': 'gender',\n",
    "    'Category': 'division',\n",
    "    'Event': 'event',\n",
    "    'Half Time': 'half',\n",
    "    'Finish Time': 'finish_time',\n",
    "    'Year': 'year',\n",
    "    'Last Name': 'last_name',\n",
    "    'First Name': 'first_name',\n",
    "    'Country': 'country',\n",
    "    'Total Seconds': 'seconds',\n",
    "    'Half Seconds': 'half_seconds'\n",
    "})\n",
    "\n",
    "# Rename boston columns to match other dataframe columns\n",
    "elite_ber = elite_ber.rename(columns={\n",
    "    'official_time': 'finish_time',\n",
    "    'contry_citizenship': 'country',\n",
    "    'display_name': 'name',\n",
    "    'gender_result': 'place_gender',\n",
    "    'division_result': 'place_division'\n",
    "})"
   ]
  },
  {
   "cell_type": "code",
   "execution_count": 31,
   "id": "8f9697a4-cbb5-4404-8d84-c570ba8fa83e",
   "metadata": {
    "tags": []
   },
   "outputs": [],
   "source": [
    "# Combine dataframes\n",
    "elite_df = pd.concat([elite_ny, elite_chi, elite_bos, elite_ber, elite_lon], axis=0, ignore_index=True)\n",
    "elite_df.to_csv('combined_marathon_data.csv', index=False)"
   ]
  },
  {
   "cell_type": "code",
   "execution_count": null,
   "id": "77aacfc5-7aed-4c27-b216-34a05d7d0d0d",
   "metadata": {},
   "outputs": [],
   "source": []
  }
 ],
 "metadata": {
  "kernelspec": {
   "display_name": "Python 3 (ipykernel)",
   "language": "python",
   "name": "python3"
  },
  "language_info": {
   "codemirror_mode": {
    "name": "ipython",
    "version": 3
   },
   "file_extension": ".py",
   "mimetype": "text/x-python",
   "name": "python",
   "nbconvert_exporter": "python",
   "pygments_lexer": "ipython3",
   "version": "3.10.11"
  }
 },
 "nbformat": 4,
 "nbformat_minor": 5
}
