{
 "cells": [
  {
   "cell_type": "code",
   "execution_count": 2,
   "id": "9d438e3d-26c0-4910-b724-0530c767f6b1",
   "metadata": {
    "tags": []
   },
   "outputs": [],
   "source": [
    "import pandas as pd\n",
    "import numpy as np"
   ]
  },
  {
   "cell_type": "code",
   "execution_count": 8,
   "id": "b0348f71-d22e-43e0-a090-8dac807969b4",
   "metadata": {
    "tags": []
   },
   "outputs": [],
   "source": [
    "# Array of all years in dataset\n",
    "years = ['2014','2015','2016','2017','2018','2019','2020','2021','2022']\n",
    "\n",
    "# Store column names present in data\n",
    "columns = pd.read_csv(f'London_2022_elite_results.csv').columns.tolist() # 2022 arbitrarily selected\n",
    "columns = columns + ['Year']\n",
    "\n",
    "# Initialize new dataframes\n",
    "elite_df = pd.DataFrame(columns=columns)\n",
    "mass_df = pd.DataFrame(columns=columns)\n",
    "\n",
    "# Stack elite dataframes on year\n",
    "for year in years:\n",
    "    df = pd.read_csv(f'London_{year}_elite_results.csv')\n",
    "    df['Year'] = year\n",
    "    elite_df = pd.concat([elite_df, df], axis=0, ignore_index=True)\n",
    "\n",
    "# Remove 2020 because there was only an elite marathon that year\n",
    "years = ['2014','2015','2016','2017','2018','2019','2021','2022']\n",
    "\n",
    "# Stack mass dataframes on year\n",
    "for year in years:\n",
    "    df = pd.read_csv(f'London_{year}_mass_results.csv')\n",
    "    df['Year'] = year\n",
    "    mass_df = pd.concat([mass_df, df], axis=0, ignore_index=True)"
   ]
  },
  {
   "cell_type": "code",
   "execution_count": 9,
   "id": "9c071554-c8ce-45ba-8324-06bda820a0de",
   "metadata": {
    "tags": []
   },
   "outputs": [],
   "source": [
    "def SeparateName(df):\n",
    "    \"\"\"Separate first name, last name, and country code that are grouped in original data\"\"\"\n",
    "\n",
    "    # Iterate through the DataFrame and split strings based on conditions\n",
    "    rows_to_remove = []  # Create a list to store row indices to be removed\n",
    "\n",
    "    for index, row in df.iterrows():\n",
    "        input_string = row['Name']\n",
    "        split_parts = input_string.split(' (')\n",
    "        \n",
    "        try:\n",
    "            last_name, rest = split_parts[0].split(', ')\n",
    "            first_name = rest\n",
    "\n",
    "            # Check if there are enough elements in split_parts\n",
    "            if len(split_parts) > 1:\n",
    "                country = split_parts[1][:-1]\n",
    "            else:\n",
    "                country = None\n",
    "                rows_to_remove.append(index)\n",
    "\n",
    "            # Update the DataFrame\n",
    "            df.at[index, 'Last Name'] = last_name.lower()  # Cast to lowercase due to reporting inconsistencies\n",
    "            df.at[index, 'First Name'] = first_name.lower()\n",
    "            df.at[index, 'Country'] = country\n",
    "        except (ValueError, IndexError):\n",
    "            rows_to_remove.append(index)\n",
    "\n",
    "    # Drop the original 'Name' column if you want to remove it\n",
    "    df = df.drop(columns=['Name'])\n",
    "\n",
    "    # Remove rows with invalid data\n",
    "    df = df.drop(rows_to_remove)\n",
    "\n",
    "    return df\n",
    "\n",
    "\n",
    "\n",
    "# Call the above function on both dataframes\n",
    "elite_df = SeparateName(elite_df)\n",
    "mass_df = SeparateName(mass_df)"
   ]
  },
  {
   "cell_type": "code",
   "execution_count": 25,
   "id": "82f3f088-4b4a-4e29-8654-3ddaa84daeab",
   "metadata": {
    "tags": []
   },
   "outputs": [],
   "source": [
    "# Convert finish time to seconds for ease of calculations\n",
    "def time_to_seconds(time_str):\n",
    "    try:\n",
    "        return pd.to_timedelta(time_str).total_seconds()\n",
    "    except ValueError:\n",
    "        return None\n",
    "    \n",
    "elite_df['Total Seconds'] = elite_df['Finish Time'].apply(time_to_seconds)\n",
    "elite_df['Half Seconds'] = elite_df['Half Time'].apply(time_to_seconds)\n",
    "elite_df['Gender'] = elite_df['Gender'].replace('W', 'F')\n",
    "mass_df['Total Seconds'] = mass_df['Finish Time'].apply(time_to_seconds)"
   ]
  },
  {
   "cell_type": "code",
   "execution_count": 27,
   "id": "084c70f8-ad03-4b24-a74f-eaa138e97106",
   "metadata": {
    "tags": []
   },
   "outputs": [],
   "source": [
    "### Import 2023 data from excel file and convert times to seconds\n",
    "\n",
    "def time_to_seconds_2023(time_str):\n",
    "    try:\n",
    "        return pd.to_timedelta(time_str).total_seconds()\n",
    "    except ValueError:\n",
    "        return time_str.hour * 3600 + time_str.minute * 60 + time_str.second\n",
    "    \n",
    "    \n",
    "men_2023 = pd.read_excel('London_2023_elite_results.xlsx',sheet_name='Men')\n",
    "women_2023 = pd.read_excel('London_2023_elite_results.xlsx',sheet_name='Women')\n",
    "df_2023 = pd.concat([men_2023,women_2023], axis=0, ignore_index=True)\n",
    "df_2023['Total Seconds'] = df_2023['Finish Time'].apply(time_to_seconds_2023)\n",
    "df_2023['Half Seconds'] = df_2023['Half Time'].apply(time_to_seconds_2023)"
   ]
  },
  {
   "cell_type": "code",
   "execution_count": 28,
   "id": "37d238d1-f0a8-49b6-aec6-fd623889ea84",
   "metadata": {
    "tags": []
   },
   "outputs": [
    {
     "name": "stdout",
     "output_type": "stream",
     "text": [
      "     Overall Place  Gender Place  Category Place       Club Runner Number  \\\n",
      "0              1.0           1.0             1.0        NaN             2   \n",
      "1              2.0           2.0             2.0        NaN             8   \n",
      "2              3.0           3.0             3.0        NaN             1   \n",
      "3              4.0           4.0             4.0        NaN             5   \n",
      "4              5.0           5.0             5.0        NaN             6   \n",
      "..             ...           ...             ...        ...           ...   \n",
      "391           32.0           9.0             9.0        NaN            81   \n",
      "392           33.0          10.0            10.0        NaN            71   \n",
      "393           35.0          11.0            11.0  Charnwood            75   \n",
      "394           36.0          12.0            12.0        NaN            79   \n",
      "395           37.0          13.0            13.0        NaN            72   \n",
      "\n",
      "    Gender Category  Event Half Time Finish Time  Year  Last Name First Name  \\\n",
      "0        M    18-39  Elite  01:02:31    02:04:29  2014    kipsang     wilson   \n",
      "1        M    18-39  Elite  01:02:31    02:04:55  2014     biwott    stanley   \n",
      "2        M    18-39  Elite  01:02:30    02:06:30  2014     kebede    tsegaye   \n",
      "3        M    18-39  Elite  01:02:31    02:06:31  2014    abshero      ayele   \n",
      "4        M    18-39  Elite  01:02:31    02:08:06  2014   mekonnen    tsegaye   \n",
      "..     ...      ...    ...       ...         ...   ...        ...        ...   \n",
      "391      F    18-39  Elite  01:11:15    02:24:02  2023  yaremchuk     sofiia   \n",
      "392      F    18-39  Elite  01:11:15    02:24:27  2023   sullivan    susanna   \n",
      "393      F    18-39  Elite  01:12:00    02:25:59  2023   harrison   samantha   \n",
      "394      F    18-39  Elite  01:12:15    02:29:19  2023      scott  dominique   \n",
      "395      F    18-39  Elite  01:13:18    02:29:37  2023    pashley      ellie   \n",
      "\n",
      "    Country  Total Seconds  Half Seconds  \n",
      "0       KEN         7469.0        3751.0  \n",
      "1       KEN         7495.0        3751.0  \n",
      "2       ETH         7590.0        3750.0  \n",
      "3       ETH         7591.0        3751.0  \n",
      "4       ETH         7686.0        3751.0  \n",
      "..      ...            ...           ...  \n",
      "391     ITA         8642.0        4275.0  \n",
      "392     USA         8667.0        4275.0  \n",
      "393     GBR         8759.0        4320.0  \n",
      "394     RSA         8959.0        4335.0  \n",
      "395     AUS         8977.0        4398.0  \n",
      "\n",
      "[396 rows x 16 columns]\n"
     ]
    }
   ],
   "source": [
    "### Combine 2023 data with older data\n",
    "elite_df = pd.concat([elite_df,df_2023],axis=0,ignore_index=True)\n",
    "print(elite_df)"
   ]
  },
  {
   "cell_type": "code",
   "execution_count": 33,
   "id": "42c27a68-8b70-402e-97f3-8929ce37e8ad",
   "metadata": {},
   "outputs": [],
   "source": [
    "# Combine dataframes\n",
    "both_df = pd.concat([elite_df, mass_df], axis=0, ignore_index=True)\n",
    "\n",
    "# Save all three dataframes as csvs\n",
    "# both_df.to_csv('London_Marathon_2014_to_2022.csv', index=False) \n",
    "# elite_df.to_csv('London_Marathon_Elite_2014_to_2023.csv', index=False)\n",
    "# mass_df.to_csv('London_Marathon_Mass_2014_to_2022.csv', index=False)"
   ]
  },
  {
   "cell_type": "code",
   "execution_count": 44,
   "id": "936b6238-54be-420f-aafc-067e2def12be",
   "metadata": {},
   "outputs": [
    {
     "name": "stdout",
     "output_type": "stream",
     "text": [
      "2016    25\n",
      "2017    25\n",
      "2019    25\n",
      "2020    25\n",
      "2023    24\n",
      "2015    21\n",
      "2022    21\n",
      "2021    20\n",
      "2014    18\n",
      "2018    18\n",
      "Name: Year, dtype: int64\n",
      "2017    25\n",
      "2019    21\n",
      "2015    20\n",
      "2016    19\n",
      "2021    19\n",
      "2020    18\n",
      "2014    14\n",
      "2018    13\n",
      "2023    13\n",
      "2022    12\n",
      "Name: Year, dtype: int64\n",
      "2019    24803\n",
      "2016    23935\n",
      "2017    23841\n",
      "2022    23721\n",
      "2018    23695\n",
      "2015    23242\n",
      "2014    22626\n",
      "2021    21356\n",
      "2020       25\n",
      "2023       24\n",
      "Name: Year, dtype: int64\n",
      "2019    17801\n",
      "2022    16889\n",
      "2018    16427\n",
      "2017    15485\n",
      "2016    15044\n",
      "2015    14393\n",
      "2021    14376\n",
      "2014    13283\n",
      "2020       18\n",
      "2023       13\n",
      "Name: Year, dtype: int64\n",
      "0.0009226979863436288\n",
      "0.0011655285765913798\n"
     ]
    }
   ],
   "source": [
    "### Calculate the size ratio between elite and total\n",
    "elite_men = elite_df[elite_df['Gender'] == 'M']\n",
    "print(elite_men['Year'].value_counts())\n",
    "elite_women = elite_df[elite_df['Gender'] == 'F']\n",
    "print(elite_women['Year'].value_counts())\n",
    "\n",
    "both_men = both_df[both_df['Gender'] == 'M']\n",
    "print(both_men['Year'].value_counts())\n",
    "both_women = both_df[(both_df['Gender'] == 'F') | (both_df['Gender'] == 'W')]\n",
    "print(both_women['Year'].value_counts())\n",
    "\n",
    "men_ratio = elite_men['Year'].value_counts()/both_men['Year'].value_counts()\n",
    "women_ratio = elite_women['Year'].value_counts()/both_women['Year'].value_counts()\n",
    "\n",
    "men_ratio = men_ratio[men_ratio != 1]\n",
    "women_ratio = women_ratio[women_ratio != 1]\n",
    "\n",
    "print(men_ratio.mean())\n",
    "print(women_ratio.mean())"
   ]
  },
  {
   "cell_type": "code",
   "execution_count": 45,
   "id": "f1b777dd-aeea-40a6-a540-74cbce28d560",
   "metadata": {
    "tags": []
   },
   "outputs": [
    {
     "ename": "NameError",
     "evalue": "name 'recent_df' is not defined",
     "output_type": "error",
     "traceback": [
      "\u001b[0;31m---------------------------------------------------------------------------\u001b[0m",
      "\u001b[0;31mNameError\u001b[0m                                 Traceback (most recent call last)",
      "Cell \u001b[0;32mIn[45], line 1\u001b[0m\n\u001b[0;32m----> 1\u001b[0m sorted_df \u001b[38;5;241m=\u001b[39m \u001b[43mrecent_df\u001b[49m\u001b[38;5;241m.\u001b[39msort_values(by\u001b[38;5;241m=\u001b[39m[\u001b[38;5;124m'\u001b[39m\u001b[38;5;124myear\u001b[39m\u001b[38;5;124m'\u001b[39m, \u001b[38;5;124m'\u001b[39m\u001b[38;5;124mseconds\u001b[39m\u001b[38;5;124m'\u001b[39m])\n\u001b[1;32m      3\u001b[0m \u001b[38;5;66;03m# Use groupby and head to select the top 'count' rows for each 'year'\u001b[39;00m\n\u001b[1;32m      4\u001b[0m selected_rows \u001b[38;5;241m=\u001b[39m sorted_df\u001b[38;5;241m.\u001b[39mgroupby(\u001b[38;5;124m'\u001b[39m\u001b[38;5;124myear\u001b[39m\u001b[38;5;124m'\u001b[39m)\u001b[38;5;241m.\u001b[39mhead(counts_series)\n",
      "\u001b[0;31mNameError\u001b[0m: name 'recent_df' is not defined"
     ]
    }
   ],
   "source": []
  },
  {
   "cell_type": "code",
   "execution_count": null,
   "id": "4d353e10-abcf-4d8b-8aec-e3d8395b9c8f",
   "metadata": {},
   "outputs": [],
   "source": []
  }
 ],
 "metadata": {
  "kernelspec": {
   "display_name": "Python 3 (ipykernel)",
   "language": "python",
   "name": "python3"
  },
  "language_info": {
   "codemirror_mode": {
    "name": "ipython",
    "version": 3
   },
   "file_extension": ".py",
   "mimetype": "text/x-python",
   "name": "python",
   "nbconvert_exporter": "python",
   "pygments_lexer": "ipython3",
   "version": "3.10.11"
  }
 },
 "nbformat": 4,
 "nbformat_minor": 5
}
