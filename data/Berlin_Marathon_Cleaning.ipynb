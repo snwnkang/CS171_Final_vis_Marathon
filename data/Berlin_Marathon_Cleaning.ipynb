{
 "cells": [
  {
   "cell_type": "code",
   "execution_count": 4,
   "id": "6ab0ff65-d234-4d30-aa7e-7d3dce36d2d9",
   "metadata": {
    "tags": []
   },
   "outputs": [],
   "source": [
    "import pandas as pd\n",
    "import numpy as np"
   ]
  },
  {
   "cell_type": "code",
   "execution_count": 25,
   "id": "be4ad39d-0e70-45da-834e-d8a3f8aab8dc",
   "metadata": {
    "tags": []
   },
   "outputs": [],
   "source": [
    "years = [2014, 2015, 2016, 2017, 2018, 2019, 2021, 2022]\n",
    "\n",
    "df = pd.DataFrame()\n",
    "\n",
    "for year in years:\n",
    "    tdf = pd.read_excel('Berlin_Manual_Data.xlsx', sheet_name=f\"{year}\")\n",
    "    tdf['year'] = year\n",
    "    df = pd.concat([df,tdf], axis=0, ignore_index=True)\n"
   ]
  },
  {
   "cell_type": "code",
   "execution_count": 30,
   "id": "ec7f11ea-b377-40a1-b237-f41296b80499",
   "metadata": {
    "tags": []
   },
   "outputs": [],
   "source": [
    "# Import and lightly clean 2023 mens data\n",
    "men_2023 = pd.read_excel('Berlin_Manual_Data.xlsx', sheet_name='2023 Men')\n",
    "men_2023['sex'] = men_2023['gender']\n",
    "men_2023['year'] = 2023\n",
    "men_2023.drop(columns=['gender'], inplace=True)\n",
    "\n",
    "def separate_names(full_name):\n",
    "    name_parts = full_name.split()\n",
    "    first_name = \"\"\n",
    "    last_name = \"\"\n",
    "\n",
    "    if len(name_parts) > 1 and name_parts[-1].isupper():\n",
    "        last_name = name_parts.pop()\n",
    "    \n",
    "    first_name = \" \".join(name_parts)\n",
    "\n",
    "    return pd.Series([first_name, last_name], index=['First Name', 'Last Name'])\n",
    "\n",
    "# Apply the function to the 'Full Name' column\n",
    "men_2023[['first_name', 'last_name']] = men_2023['name'].apply(separate_names)"
   ]
  },
  {
   "cell_type": "code",
   "execution_count": 31,
   "id": "1a261400-48ba-45a3-8149-04d40c08d280",
   "metadata": {
    "tags": []
   },
   "outputs": [],
   "source": [
    "# Import and lightly clean 2023 womens data\n",
    "women_2023 = pd.read_excel('Berlin_Manual_Data.xlsx', sheet_name='2023 Women')\n",
    "women_2023['sex'] = women_2023['gender']\n",
    "women_2023['year'] = 2023\n",
    "women_2023.drop(columns=['gender'], inplace=True)\n",
    "\n",
    "def separate_names(full_name):\n",
    "    name_parts = full_name.split()\n",
    "    first_name = \"\"\n",
    "    last_name = \"\"\n",
    "\n",
    "    if len(name_parts) > 1 and name_parts[-1].isupper():\n",
    "        last_name = name_parts.pop()\n",
    "    \n",
    "    first_name = \" \".join(name_parts)\n",
    "\n",
    "    return pd.Series([first_name, last_name], index=['First Name', 'Last Name'])\n",
    "\n",
    "# Apply the function to the 'Full Name' column\n",
    "women_2023[['first_name', 'last_name']] = women_2023['name'].apply(separate_names)"
   ]
  },
  {
   "cell_type": "code",
   "execution_count": 32,
   "id": "e86c838a-354e-47c0-b132-a60082ed21da",
   "metadata": {
    "tags": []
   },
   "outputs": [
    {
     "name": "stdout",
     "output_type": "stream",
     "text": [
      "     gender_result                      name           birth_date country  \\\n",
      "0                1            Eliud KIPCHOGE  1984-11-05 00:00:00     KEN   \n",
      "1                2  Vincent Kipkemoi NGETICH  1999-01-03 00:00:00     KEN   \n",
      "2                3             Tadese TAKELE  2002-08-03 00:00:00     ETH   \n",
      "3                4              Ronald KORIR  1991-04-10 00:00:00     KEN   \n",
      "4                5               Haftu TEKLU  2000-01-21 00:00:00     ETH   \n",
      "..             ...                       ...                  ...     ...   \n",
      "623            265              Ruth HAWKINS                  NaN     GBR   \n",
      "624            266          Jourdan BRIDWELL                  NaN     USA   \n",
      "625            267            Rebecca O'KILL                  NaN     GBR   \n",
      "626            268             Mika NAKAMURA  1971-08-13 00:00:00     JPN   \n",
      "627            269               Shara JONES                  NaN     GBR   \n",
      "\n",
      "    finish_time sex  year        first_name last_name  \n",
      "0      02:02:42   M  2023             Eliud  KIPCHOGE  \n",
      "1      02:03:13   M  2023  Vincent Kipkemoi   NGETICH  \n",
      "2      02:03:24   M  2023            Tadese    TAKELE  \n",
      "3      02:04:22   M  2023            Ronald     KORIR  \n",
      "4      02:04:42   M  2023             Haftu     TEKLU  \n",
      "..          ...  ..   ...               ...       ...  \n",
      "623    03:04:50   F  2023              Ruth   HAWKINS  \n",
      "624    03:04:54   F  2023           Jourdan  BRIDWELL  \n",
      "625    03:04:54   F  2023           Rebecca    O'KILL  \n",
      "626    03:04:55   F  2023              Mika  NAKAMURA  \n",
      "627    03:04:57   F  2023             Shara     JONES  \n",
      "\n",
      "[628 rows x 9 columns]\n"
     ]
    }
   ],
   "source": [
    "# Combine 2023 data\n",
    "df_2023 = pd.concat([men_2023,women_2023], axis=0, ignore_index=True)\n",
    "print(df_2023)"
   ]
  },
  {
   "cell_type": "code",
   "execution_count": 33,
   "id": "832351d7-aa74-4cdc-8127-63a2b207f45a",
   "metadata": {
    "tags": []
   },
   "outputs": [
    {
     "name": "stdout",
     "output_type": "stream",
     "text": [
      "      place  bib last_name first_name       club country sex division  \\\n",
      "0       1.0    2   Kimetto     Dennis      Kenia     KEN   M       30   \n",
      "1       2.0    3     Mutai   Emmanuel      Kenia     KEN   M       30   \n",
      "2       3.0   12      Kuma      Abera  Äthiopien     ETH   M        H   \n",
      "3       4.0    8  Kamworor   Geoffrey      Kenia     KEN   M        H   \n",
      "4       5.0    6  Kiptanui      Eliud      Kenia     KEN   M        H   \n",
      "...     ...  ...       ...        ...        ...     ...  ..      ...   \n",
      "2951    NaN  NaN   HAWKINS       Ruth        NaN     GBR   F      NaN   \n",
      "2952    NaN  NaN  BRIDWELL    Jourdan        NaN     USA   F      NaN   \n",
      "2953    NaN  NaN    O'KILL    Rebecca        NaN     GBR   F      NaN   \n",
      "2954    NaN  NaN  NAKAMURA       Mika        NaN     JPN   F      NaN   \n",
      "2955    NaN  NaN     JONES      Shara        NaN     GBR   F      NaN   \n",
      "\n",
      "      division_result  net_time finish_time    year  gender_result  \\\n",
      "0                 1.0  02:02:57    02:02:57  2014.0            NaN   \n",
      "1                 2.0  02:03:13    02:03:13  2014.0            NaN   \n",
      "2                 1.0  02:05:56    02:05:56  2014.0            NaN   \n",
      "3                 2.0  02:06:39    02:06:39  2014.0            NaN   \n",
      "4                 3.0  02:07:28    02:07:28  2014.0            NaN   \n",
      "...               ...       ...         ...     ...            ...   \n",
      "2951              NaN       NaN    03:04:50  2023.0          265.0   \n",
      "2952              NaN       NaN    03:04:54  2023.0          266.0   \n",
      "2953              NaN       NaN    03:04:54  2023.0          267.0   \n",
      "2954              NaN       NaN    03:04:55  2023.0          268.0   \n",
      "2955              NaN       NaN    03:04:57  2023.0          269.0   \n",
      "\n",
      "                  name           birth_date  \n",
      "0                  NaN                  NaN  \n",
      "1                  NaN                  NaN  \n",
      "2                  NaN                  NaN  \n",
      "3                  NaN                  NaN  \n",
      "4                  NaN                  NaN  \n",
      "...                ...                  ...  \n",
      "2951      Ruth HAWKINS                  NaN  \n",
      "2952  Jourdan BRIDWELL                  NaN  \n",
      "2953    Rebecca O'KILL                  NaN  \n",
      "2954     Mika NAKAMURA  1971-08-13 00:00:00  \n",
      "2955       Shara JONES                  NaN  \n",
      "\n",
      "[2956 rows x 15 columns]\n"
     ]
    }
   ],
   "source": [
    "# Combine 2023 data with other data\n",
    "df = pd.concat([df,df_2023], axis=0, ignore_index=True)\n",
    "print(df)"
   ]
  },
  {
   "cell_type": "code",
   "execution_count": 35,
   "id": "07a09562-875a-4fca-ae93-c7c9102ebfd3",
   "metadata": {
    "tags": []
   },
   "outputs": [],
   "source": [
    "def time_to_seconds_2023(time_str):\n",
    "    try:\n",
    "        return pd.to_timedelta(time_str).total_seconds()\n",
    "    except ValueError:\n",
    "        return time_str.hour * 3600 + time_str.minute * 60 + time_str.second\n",
    "    \n",
    "df['seconds'] = df['finish_time'].apply(time_to_seconds_2023)"
   ]
  },
  {
   "cell_type": "code",
   "execution_count": 37,
   "id": "2f505235-789f-4a01-9517-31a77bfc6a11",
   "metadata": {
    "tags": []
   },
   "outputs": [
    {
     "name": "stdout",
     "output_type": "stream",
     "text": [
      "      place  bib last_name first_name       club country sex division  \\\n",
      "0       1.0    2   kimetto     dennis      Kenia     KEN   M       30   \n",
      "1       2.0    3     mutai   emmanuel      Kenia     KEN   M       30   \n",
      "2       3.0   12      kuma      abera  Äthiopien     ETH   M        H   \n",
      "3       4.0    8  kamworor   geoffrey      Kenia     KEN   M        H   \n",
      "4       5.0    6  kiptanui      eliud      Kenia     KEN   M        H   \n",
      "...     ...  ...       ...        ...        ...     ...  ..      ...   \n",
      "2951    NaN  NaN   hawkins       ruth        NaN     GBR   F      NaN   \n",
      "2952    NaN  NaN  bridwell    jourdan        NaN     USA   F      NaN   \n",
      "2953    NaN  NaN    o'kill    rebecca        NaN     GBR   F      NaN   \n",
      "2954    NaN  NaN  nakamura       mika        NaN     JPN   F      NaN   \n",
      "2955    NaN  NaN     jones      shara        NaN     GBR   F      NaN   \n",
      "\n",
      "      division_result  net_time finish_time    year  gender_result  \\\n",
      "0                 1.0  02:02:57    02:02:57  2014.0            NaN   \n",
      "1                 2.0  02:03:13    02:03:13  2014.0            NaN   \n",
      "2                 1.0  02:05:56    02:05:56  2014.0            NaN   \n",
      "3                 2.0  02:06:39    02:06:39  2014.0            NaN   \n",
      "4                 3.0  02:07:28    02:07:28  2014.0            NaN   \n",
      "...               ...       ...         ...     ...            ...   \n",
      "2951              NaN       NaN    03:04:50  2023.0          265.0   \n",
      "2952              NaN       NaN    03:04:54  2023.0          266.0   \n",
      "2953              NaN       NaN    03:04:54  2023.0          267.0   \n",
      "2954              NaN       NaN    03:04:55  2023.0          268.0   \n",
      "2955              NaN       NaN    03:04:57  2023.0          269.0   \n",
      "\n",
      "                  name           birth_date  seconds  \n",
      "0                  NaN                  NaN     7377  \n",
      "1                  NaN                  NaN     7393  \n",
      "2                  NaN                  NaN     7556  \n",
      "3                  NaN                  NaN     7599  \n",
      "4                  NaN                  NaN     7648  \n",
      "...                ...                  ...      ...  \n",
      "2951      ruth hawkins                  NaN    11090  \n",
      "2952  jourdan bridwell                  NaN    11094  \n",
      "2953    rebecca o'kill                  NaN    11094  \n",
      "2954     mika nakamura  1971-08-13 00:00:00    11095  \n",
      "2955       shara jones                  NaN    11097  \n",
      "\n",
      "[2956 rows x 16 columns]\n"
     ]
    }
   ],
   "source": [
    "df['name'] = df['name'].str.lower()\n",
    "df['first_name'] = df['first_name'].str.lower()\n",
    "df['last_name'] = df['last_name'].str.lower()\n",
    "print(df)"
   ]
  },
  {
   "cell_type": "code",
   "execution_count": 38,
   "id": "803df481-d5ce-447e-aee1-19222f3a3939",
   "metadata": {
    "tags": []
   },
   "outputs": [],
   "source": [
    "df.to_csv('Berlin_All_2014_to_2023.csv',index=False)"
   ]
  },
  {
   "cell_type": "code",
   "execution_count": null,
   "id": "52c258ee-43f4-4433-969b-8327ee97300f",
   "metadata": {},
   "outputs": [],
   "source": []
  }
 ],
 "metadata": {
  "kernelspec": {
   "display_name": "Python 3 (ipykernel)",
   "language": "python",
   "name": "python3"
  },
  "language_info": {
   "codemirror_mode": {
    "name": "ipython",
    "version": 3
   },
   "file_extension": ".py",
   "mimetype": "text/x-python",
   "name": "python",
   "nbconvert_exporter": "python",
   "pygments_lexer": "ipython3",
   "version": "3.10.11"
  }
 },
 "nbformat": 4,
 "nbformat_minor": 5
}
